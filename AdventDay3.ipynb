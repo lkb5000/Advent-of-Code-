{
 "cells": [
  {
   "cell_type": "code",
   "execution_count": 73,
   "metadata": {},
   "outputs": [
    {
     "name": "stdout",
     "output_type": "stream",
     "text": [
      "sum of priorities:  7967\n",
      "sum of priorities:  2716\n"
     ]
    }
   ],
   "source": [
    "# import\n",
    "f = open(r\"C:\\Users\\leahk\\Desktop\\Advent3.txt\")\n",
    "lines = f.read().split('\\n')\n",
    "\n",
    "prioritySum=0; # initialize sum of priorities\n",
    "\n",
    "# for each line, get length, dividing into two halves\n",
    "for line in lines:\n",
    "    temp = len(line)\n",
    "    c1 = line[0:(int(temp/2))]\n",
    "    c2 = line[int(temp/2):temp]\n",
    "\n",
    "    # figure out what letter is shared\n",
    "    shared = set(c1).intersection(c2).pop()\n",
    "\n",
    "# figure out what item is shared between each compartment - then add them as numbers (the priorities)\n",
    "    if shared.isupper():\n",
    "        temp2 = ord(shared)-64+26\n",
    "    elif shared.islower():\n",
    "        temp2 = ord(shared)-96\n",
    "        \n",
    "    prioritySum=prioritySum+temp2\n",
    "    \n",
    "print(\"sum of priorities: \", prioritySum)\n",
    "\n",
    "# part 2\n",
    "\n",
    "line_numbers = list(range(0,len(lines),3))\n",
    "priority2 = 0\n",
    "for i, line in enumerate(lines):\n",
    "    if i in line_numbers:\n",
    "        badge = set(lines[i]).intersection(lines[i+1],lines[i+2]).pop()\n",
    "        if badge.isupper():\n",
    "            temp2 = ord(badge)-64+26\n",
    "        elif badge.islower():\n",
    "            temp2 = ord(badge)-96     \n",
    "        \n",
    "        priority2=priority2+temp2\n",
    "    \n",
    "print(\"sum of priorities: \", priority2)"
   ]
  }
 ],
 "metadata": {
  "kernelspec": {
   "display_name": "Python 3",
   "language": "python",
   "name": "python3"
  },
  "language_info": {
   "codemirror_mode": {
    "name": "ipython",
    "version": 3
   },
   "file_extension": ".py",
   "mimetype": "text/x-python",
   "name": "python",
   "nbconvert_exporter": "python",
   "pygments_lexer": "ipython3",
   "version": "3.7.1"
  }
 },
 "nbformat": 4,
 "nbformat_minor": 2
}
