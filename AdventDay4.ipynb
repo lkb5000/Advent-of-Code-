{
 "cells": [
  {
   "cell_type": "code",
   "execution_count": 47,
   "metadata": {},
   "outputs": [
    {
     "name": "stdout",
     "output_type": "stream",
     "text": [
      "number of contained sets:  530\n",
      "number of overlapping sets:  903\n"
     ]
    }
   ],
   "source": [
    "# load data\n",
    "# import\n",
    "f = open(r\"C:\\Users\\leahk\\Desktop\\Advent4.txt\")\n",
    "# split by line\n",
    "lines = f.read().split('\\n')\n",
    "\n",
    "answer1 = 0; \n",
    "answer2 = 0;\n",
    "\n",
    "for line in lines:\n",
    "    temp=line.split(',') # split by comma\n",
    "\n",
    "    E0 = temp[0].split('-') # split by -\n",
    "    E1 = temp[1].split('-')\n",
    "    \n",
    "    # get full sets of numbers\n",
    "    set1 = set(range(int(E0[0]),int(E0[1])+1))\n",
    "    set2 = set(range(int(E1[0]),int(E1[1])+1))\n",
    "\n",
    "    # check if one set is contained within the other\n",
    "    if set1.issubset(set2) or set2.issubset(set1): \n",
    "        answer1 += 1\n",
    "        \n",
    "    if set1 & set2:\n",
    "        answer2 += 1\n",
    "print('number of contained sets: ',answer1)\n",
    "print('number of overlapping sets: ',answer2)"
   ]
  }
 ],
 "metadata": {
  "kernelspec": {
   "display_name": "Python 3",
   "language": "python",
   "name": "python3"
  },
  "language_info": {
   "codemirror_mode": {
    "name": "ipython",
    "version": 3
   },
   "file_extension": ".py",
   "mimetype": "text/x-python",
   "name": "python",
   "nbconvert_exporter": "python",
   "pygments_lexer": "ipython3",
   "version": "3.7.1"
  }
 },
 "nbformat": 4,
 "nbformat_minor": 2
}
