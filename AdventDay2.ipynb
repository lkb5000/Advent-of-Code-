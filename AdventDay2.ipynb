{
 "cells": [
  {
   "cell_type": "code",
   "execution_count": 135,
   "metadata": {},
   "outputs": [
    {
     "name": "stdout",
     "output_type": "stream",
     "text": [
      "total score player 2 part 1:  15632\n",
      "total score player 2 part 2:  14416\n"
     ]
    }
   ],
   "source": [
    "f = open(r\"C:\\Users\\leahk\\Desktop\\Advent2.txt\")\n",
    "lines = f.read()\n",
    "lines = lines.split('\\n')\n",
    "\n",
    "total1 = 0\n",
    "total2 = 0\n",
    "\n",
    "for line in lines :\n",
    "    # turn letters into scores for each round\n",
    "    # A for Rock, B for Paper, and C for Scissors\n",
    "    # X for rock, Y paper, Z scissors\n",
    "    if line == 'A X': # rock, rock - tie\n",
    "#        total1 = total1 + 1+3\n",
    "        total2 = total2 + 1+3\n",
    "    elif line == 'A Y': # rock, paper - player 2 wins\n",
    "#        total1 = total1 + 1+0\n",
    "        total2 = total2 + 2+6\n",
    "    elif line == 'A Z': # rock, scissors - player 1 wins\n",
    "#        total1 = total1 + 1 +6\n",
    "        total2 = total2 + 3\n",
    "    elif line == 'B X': # paper rock - player 1 wins\n",
    "#        total1 = total1 + 2+6\n",
    "        total2 = total2 + 1+0\n",
    "    elif line == 'B Y': # paper paper - tie\n",
    "#        total1 = total1 + 2+3\n",
    "        total2 = total2 + 2+3\n",
    "    elif line == 'B Z': # paper scissors - player 2 wins\n",
    "#        total1 = total1 + 2\n",
    "        total2 = total2 + 3+6\n",
    "    elif line == 'C X': # scissor rock - player 2 wins\n",
    "#        total1 = total1 + 3+0\n",
    "        total2 = total2 + 1+6\n",
    "    elif line == 'C Y': # scissor paper - player 1 wins\n",
    "#        total1 = total1 + 30+6\n",
    "        total2 = total2 + 2+0\n",
    "    elif line == 'C Z': # scissor scissor - tie\n",
    "#        total1 = total1 + 3+3\n",
    "        total2 = total2 + 3+3\n",
    "\n",
    "        \n",
    "print('total score player 2 part 1: ',total2)\n",
    "\n",
    "\n",
    "total2 = 0\n",
    "\n",
    "for line in lines :\n",
    "    # turn letters into scores for each round\n",
    "    if line == 'A X': # rock -> lose -> choose scissors\n",
    "        total2 = total2 + 3+0\n",
    "    elif line == 'A Y': # rock -> draw -> choose rock\n",
    "        total2 = total2 + 1+3\n",
    "    elif line == 'A Z': # rock -> win -> choose paper\n",
    "        total2 = total2 + 2+6\n",
    "\n",
    "    elif line == 'B X': # Paper -> lose -> choose rock\n",
    "        total2 = total2 + 1+0\n",
    "    elif line == 'B Y': # paper -> draw -> choose paper\n",
    "        total2 = total2 + 2+3\n",
    "    elif line == 'B Z': # paper -> win -> choose scissors\n",
    "        total2 = total2 + 3+6\n",
    "\n",
    "    elif line == 'C X': # scissors -> lose -> choose paper\n",
    "        total2 = total2 + 2+0\n",
    "    elif line == 'C Y': # scissors - draw -> choose scissors\n",
    "        total2 = total2 + 3+3\n",
    "    elif line == 'C Z': # scissors -> win -> choose rock again\n",
    "        total2 = total2 + 1+6\n",
    "\n",
    "print('total score player 2 part 2: ',total2)"
   ]
  }
 ],
 "metadata": {
  "kernelspec": {
   "display_name": "Python 3",
   "language": "python",
   "name": "python3"
  },
  "language_info": {
   "codemirror_mode": {
    "name": "ipython",
    "version": 3
   },
   "file_extension": ".py",
   "mimetype": "text/x-python",
   "name": "python",
   "nbconvert_exporter": "python",
   "pygments_lexer": "ipython3",
   "version": "3.7.1"
  }
 },
 "nbformat": 4,
 "nbformat_minor": 2
}
