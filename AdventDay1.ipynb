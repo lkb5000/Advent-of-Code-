{
 "cells": [
  {
   "cell_type": "code",
   "execution_count": 53,
   "metadata": {},
   "outputs": [
    {
     "name": "stdout",
     "output_type": "stream",
     "text": [
      "Part 1 answer:  70613\n",
      "Part 2 answer:  205805\n"
     ]
    }
   ],
   "source": [
    "f = open(r\"C:\\Users\\leahk\\Desktop\\example.txt\")\n",
    "lines = f.read().split('\\n')\n",
    "\n",
    "count = 0\n",
    "calories = [0]\n",
    "\n",
    "for line in lines:\n",
    "    if line.isnumeric(): # if it's a number add it\n",
    "        calories[count]=calories[count]+int(line)\n",
    "    else: # for new lines, make new calorie count\n",
    "        count += 1\n",
    "        calories.append(0)  \n",
    "\n",
    "print(\"Part 1 answer: \",max(calories))\n",
    "\n",
    "calories.sort()\n",
    "print(\"Part 2 answer: \",sum(calories[len(calories)-3:len(calories)]))\n",
    "\n",
    "f.close()"
   ]
  },
  {
   "cell_type": "code",
   "execution_count": null,
   "metadata": {},
   "outputs": [],
   "source": []
  }
 ],
 "metadata": {
  "kernelspec": {
   "display_name": "Python 3",
   "language": "python",
   "name": "python3"
  },
  "language_info": {
   "codemirror_mode": {
    "name": "ipython",
    "version": 3
   },
   "file_extension": ".py",
   "mimetype": "text/x-python",
   "name": "python",
   "nbconvert_exporter": "python",
   "pygments_lexer": "ipython3",
   "version": "3.7.1"
  }
 },
 "nbformat": 4,
 "nbformat_minor": 2
}
